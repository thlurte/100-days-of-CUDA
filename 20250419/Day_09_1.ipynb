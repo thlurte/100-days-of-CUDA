{
  "nbformat": 4,
  "nbformat_minor": 0,
  "metadata": {
    "colab": {
      "provenance": [],
      "gpuType": "T4"
    },
    "kernelspec": {
      "name": "python3",
      "display_name": "Python 3"
    },
    "language_info": {
      "name": "python"
    },
    "accelerator": "GPU"
  },
  "cells": [
    {
      "cell_type": "code",
      "execution_count": null,
      "metadata": {
        "colab": {
          "base_uri": "https://localhost:8080/"
        },
        "id": "GJlSQMlwh33Z",
        "outputId": "6296c6cb-5597-4c60-c715-7097c5536d18"
      },
      "outputs": [
        {
          "output_type": "stream",
          "name": "stdout",
          "text": [
            "Fri Apr 18 15:55:06 2025       \n",
            "+-----------------------------------------------------------------------------------------+\n",
            "| NVIDIA-SMI 550.54.15              Driver Version: 550.54.15      CUDA Version: 12.4     |\n",
            "|-----------------------------------------+------------------------+----------------------+\n",
            "| GPU  Name                 Persistence-M | Bus-Id          Disp.A | Volatile Uncorr. ECC |\n",
            "| Fan  Temp   Perf          Pwr:Usage/Cap |           Memory-Usage | GPU-Util  Compute M. |\n",
            "|                                         |                        |               MIG M. |\n",
            "|=========================================+========================+======================|\n",
            "|   0  Tesla T4                       Off |   00000000:00:04.0 Off |                    0 |\n",
            "| N/A   34C    P8              9W /   70W |       0MiB /  15360MiB |      0%      Default |\n",
            "|                                         |                        |                  N/A |\n",
            "+-----------------------------------------+------------------------+----------------------+\n",
            "                                                                                         \n",
            "+-----------------------------------------------------------------------------------------+\n",
            "| Processes:                                                                              |\n",
            "|  GPU   GI   CI        PID   Type   Process name                              GPU Memory |\n",
            "|        ID   ID                                                               Usage      |\n",
            "|=========================================================================================|\n",
            "|  No running processes found                                                             |\n",
            "+-----------------------------------------------------------------------------------------+\n"
          ]
        }
      ],
      "source": [
        "!nvidia-smi"
      ]
    },
    {
      "cell_type": "code",
      "source": [
        "# Step 1: Write CUDA code to a file\n",
        "code = r'''\n",
        "#include <stdio.h>\n",
        "#include <stdlib.h>\n",
        "#include <algorithm>\n",
        "#include <time.h>\n",
        "\n",
        "#define BLOCK_SIZE 256\n",
        "#define OUT_TILE_DIM 32\n",
        "#define MASK_DIM 3\n",
        "#define MASK_RADIUS (MASK_DIM / 2)\n",
        "\n",
        "\n",
        "__constant__ float mask_c[MASK_DIM][MASK_DIM];\n",
        "__global__ void convolutional_kernel(float* input, float* output, unsigned int width, unsigned int height)\n",
        "{\n",
        "  int outRow = blockIdx.y*blockDim.y+threadIdx.y;\n",
        "  int outCol = blockIdx.x*blockDim.x+threadIdx.x;\n",
        "\n",
        "  // Boundary Condtion\n",
        "  if (outRow < height && outCol < width)\n",
        "  {\n",
        "    float sum = 0.0f;\n",
        "    for (int maskRow = 0; maskRow < MASK_DIM; ++maskRow)\n",
        "    {\n",
        "      for (int maskCol = 0; maskCol < MASK_DIM; ++maskCol)\n",
        "      {\n",
        "        int inRow = outRow - MASK_RADIUS + maskRow;\n",
        "        int inCol = outCol - MASK_RADIUS + maskCol;\n",
        "        if (inRow < height && inRow >= 0 && inCol < width && inCol >=0)\n",
        "        {\n",
        "          sum += mask_c[maskRow][maskCol]*input[inRow*width+inCol];\n",
        "        }\n",
        "      }\n",
        "    }\n",
        "    output[outRow*width+outCol] = sum;\n",
        "  }\n",
        "}\n",
        "\n",
        "void convolution_gpu(float mask[][MASK_DIM], float* input, float* output, unsigned int width, unsigned int height)\n",
        "{\n",
        "  float *input_d, *output_d;\n",
        "  cudaMalloc((void**)&input_d, width*height*sizeof(float));\n",
        "  cudaMalloc((void**)&output_d, width*height*sizeof(float));\n",
        "  cudaDeviceSynchronize();\n",
        "\n",
        "  cudaMemcpy(input_d, input, width*height*sizeof(float), cudaMemcpyHostToDevice);\n",
        "  cudaDeviceSynchronize();\n",
        "\n",
        "\n",
        "  cudaMemcpyToSymbol(mask_c,mask,MASK_DIM*MASK_DIM*sizeof(float));\n",
        "  cudaDeviceSynchronize();\n",
        "\n",
        "  dim3 numThreadsPerBlock(OUT_TILE_DIM,OUT_TILE_DIM);\n",
        "  dim3 numBlocks((width + OUT_TILE_DIM - 1)/OUT_TILE_DIM, (height + OUT_TILE_DIM -1)/OUT_TILE_DIM);\n",
        "  convolutional_kernel<<<numBlocks, numThreadsPerBlock>>>(input_d,output_d, width, height);\n",
        "  cudaDeviceSynchronize();\n",
        "\n",
        "  cudaMemcpy(output,output_d,width*height*sizeof(float),cudaMemcpyDeviceToHost);\n",
        "  cudaDeviceSynchronize();\n",
        "\n",
        "  cudaFree(input_d);\n",
        "  cudaFree(output_d);\n",
        "  cudaDeviceSynchronize();\n",
        "\n",
        "}\n",
        "int main()\n",
        "{\n",
        "  const unsigned int width = 1024;\n",
        "  const unsigned int height = 1024;\n",
        "\n",
        "  float* input = (float*)malloc(width*height*sizeof(float));\n",
        "  float* output = (float*)malloc(width*height*sizeof(float));\n",
        "\n",
        "  srand(42);\n",
        "  for (unsigned int i = 0; i<width*height; i++) {\n",
        "    input[i] = float(rand())/RAND_MAX;\n",
        "  }\n",
        "\n",
        "  float mask[MASK_DIM][MASK_DIM];\n",
        "  for (int i = 0; i < MASK_DIM; i++) {\n",
        "    for (int j = 0; j < MASK_DIM; j++) {\n",
        "        mask[i][j] = 1.0f / (MASK_DIM * MASK_DIM);  // simple averaging kernel\n",
        "    }\n",
        "  }\n",
        "\n",
        "  convolution_gpu(mask,input,output,width,height);\n",
        "\n",
        "  return 0;\n",
        "}\n",
        "\n",
        "'''\n",
        "\n",
        "# Step 2: Save to file\n",
        "with open('vec_add.cu', 'w') as f:\n",
        "    f.write(code)\n",
        "\n",
        "# Step 3: Compile using nvcc\n",
        "# Ref: https://stackoverflow.com/questions/73361454/i-am-getting-zeros-as-a-result-of-vector-additon-in-cuda-and-no-errors\n",
        "!nvcc -arch=sm_75 vec_add.cu -o vec_add\n",
        "\n",
        "# Step 4: Run the binary\n",
        "!./vec_add\n"
      ],
      "metadata": {
        "id": "WosNuob-1Ae-"
      },
      "execution_count": 1,
      "outputs": []
    },
    {
      "cell_type": "code",
      "source": [
        "!nvprof ./vec_add --profile-from-start off"
      ],
      "metadata": {
        "id": "93MTzCF-ncNo",
        "outputId": "f8e4e3c4-9e87-4ff0-a3ba-f35308674f66",
        "colab": {
          "base_uri": "https://localhost:8080/"
        }
      },
      "execution_count": 2,
      "outputs": [
        {
          "output_type": "stream",
          "name": "stdout",
          "text": [
            "==692== NVPROF is profiling process 692, command: ./vec_add --profile-from-start off\n",
            "==692== Profiling application: ./vec_add --profile-from-start off\n",
            "==692== Profiling result:\n",
            "            Type  Time(%)      Time     Calls       Avg       Min       Max  Name\n",
            " GPU activities:   67.80%  2.0711ms         1  2.0711ms  2.0711ms  2.0711ms  [CUDA memcpy DtoH]\n",
            "                   29.45%  899.67us         2  449.83us     672ns  899.00us  [CUDA memcpy HtoD]\n",
            "                    2.75%  83.967us         1  83.967us  83.967us  83.967us  convolutional_kernel(float*, float*, unsigned int, unsigned int)\n",
            "      API calls:   94.62%  122.73ms         2  61.367ms  158.44us  122.58ms  cudaMalloc\n",
            "                    3.76%  4.8736ms         2  2.4368ms  1.0862ms  3.7874ms  cudaMemcpy\n",
            "                    0.96%  1.2395ms         1  1.2395ms  1.2395ms  1.2395ms  cudaMemcpyToSymbol\n",
            "                    0.25%  330.63us         2  165.32us  127.90us  202.73us  cudaFree\n",
            "                    0.20%  259.92us       114  2.2790us     162ns  84.053us  cuDeviceGetAttribute\n",
            "                    0.15%  193.41us         6  32.235us  2.4530us  84.376us  cudaDeviceSynchronize\n",
            "                    0.04%  47.993us         1  47.993us  47.993us  47.993us  cudaLaunchKernel\n",
            "                    0.01%  15.996us         1  15.996us  15.996us  15.996us  cuDeviceGetName\n",
            "                    0.01%  7.6710us         1  7.6710us  7.6710us  7.6710us  cuDeviceGetPCIBusId\n",
            "                    0.00%  1.9810us         3     660ns     328ns  1.2300us  cuDeviceGetCount\n",
            "                    0.00%  1.4260us         2     713ns     242ns  1.1840us  cuDeviceGet\n",
            "                    0.00%  1.3470us         1  1.3470us  1.3470us  1.3470us  cuModuleGetLoadingMode\n",
            "                    0.00%     899ns         1     899ns     899ns     899ns  cuDeviceTotalMem\n",
            "                    0.00%     404ns         1     404ns     404ns     404ns  cuDeviceGetUuid\n"
          ]
        }
      ]
    },
    {
      "cell_type": "code",
      "source": [],
      "metadata": {
        "id": "sYfRvW2png-n"
      },
      "execution_count": null,
      "outputs": []
    }
  ]
}