{
  "nbformat": 4,
  "nbformat_minor": 0,
  "metadata": {
    "colab": {
      "provenance": [],
      "gpuType": "T4"
    },
    "kernelspec": {
      "name": "python3",
      "display_name": "Python 3"
    },
    "language_info": {
      "name": "python"
    },
    "accelerator": "GPU"
  },
  "cells": [
    {
      "cell_type": "code",
      "execution_count": null,
      "metadata": {
        "colab": {
          "base_uri": "https://localhost:8080/"
        },
        "id": "GJlSQMlwh33Z",
        "outputId": "6296c6cb-5597-4c60-c715-7097c5536d18"
      },
      "outputs": [
        {
          "output_type": "stream",
          "name": "stdout",
          "text": [
            "Fri Apr 18 15:55:06 2025       \n",
            "+-----------------------------------------------------------------------------------------+\n",
            "| NVIDIA-SMI 550.54.15              Driver Version: 550.54.15      CUDA Version: 12.4     |\n",
            "|-----------------------------------------+------------------------+----------------------+\n",
            "| GPU  Name                 Persistence-M | Bus-Id          Disp.A | Volatile Uncorr. ECC |\n",
            "| Fan  Temp   Perf          Pwr:Usage/Cap |           Memory-Usage | GPU-Util  Compute M. |\n",
            "|                                         |                        |               MIG M. |\n",
            "|=========================================+========================+======================|\n",
            "|   0  Tesla T4                       Off |   00000000:00:04.0 Off |                    0 |\n",
            "| N/A   34C    P8              9W /   70W |       0MiB /  15360MiB |      0%      Default |\n",
            "|                                         |                        |                  N/A |\n",
            "+-----------------------------------------+------------------------+----------------------+\n",
            "                                                                                         \n",
            "+-----------------------------------------------------------------------------------------+\n",
            "| Processes:                                                                              |\n",
            "|  GPU   GI   CI        PID   Type   Process name                              GPU Memory |\n",
            "|        ID   ID                                                               Usage      |\n",
            "|=========================================================================================|\n",
            "|  No running processes found                                                             |\n",
            "+-----------------------------------------------------------------------------------------+\n"
          ]
        }
      ],
      "source": [
        "!nvidia-smi"
      ]
    },
    {
      "cell_type": "code",
      "source": [
        "# Step 1: Write CUDA code to a file\n",
        "code = r'''\n",
        "\n",
        "#include <stdio.h>\n",
        "#include <stdlib.h>\n",
        "#include <time.h>\n",
        "#include <cuda_runtime.h>\n",
        "\n",
        "// CUDA kernel for reduction using atomicAdd\n",
        "__global__ void reduce_sum_kernel(double* A, double* B, int n) {\n",
        "    int i = threadIdx.x + blockIdx.x * blockDim.x;\n",
        "    if (i < n) {\n",
        "        atomicAdd(B, A[i]);\n",
        "    }\n",
        "}\n",
        "\n",
        "// CPU version of array sum\n",
        "void reduce_sum_cpu(double* A, double* B, int n) {\n",
        "    double sum = 0.0;\n",
        "    for (int i = 0; i < n; ++i) {\n",
        "        sum += A[i];\n",
        "    }\n",
        "    *B = sum;\n",
        "}\n",
        "\n",
        "int main() {\n",
        "    int N = 10000000;\n",
        "    int threadsPerBlock = 256;\n",
        "    int blocks = (N + threadsPerBlock - 1) / threadsPerBlock;\n",
        "    size_t size = N * sizeof(double);\n",
        "\n",
        "    // Allocate host memory\n",
        "    double* A_h = (double*)malloc(size);\n",
        "    double* B_h = (double*)malloc(sizeof(double));\n",
        "    double* B_h_CPU = (double*)malloc(sizeof(double));\n",
        "\n",
        "    // Initialize data\n",
        "    srand(time(NULL));\n",
        "    for (int i = 0; i < N; i++) {\n",
        "        A_h[i] = (double)rand() / RAND_MAX;\n",
        "    }\n",
        "\n",
        "    // Allocate device memory\n",
        "    double* A_d;\n",
        "    double* B_d;\n",
        "    cudaMalloc((void**)&A_d, size);\n",
        "    cudaMalloc((void**)&B_d, sizeof(double));\n",
        "\n",
        "    // Copy data to device\n",
        "    cudaMemcpy(A_d, A_h, size, cudaMemcpyHostToDevice);\n",
        "    cudaMemset(B_d, 0, sizeof(double));  // initialize sum to 0\n",
        "\n",
        "    // GPU timing\n",
        "    cudaEvent_t start, stop;\n",
        "    cudaEventCreate(&start);\n",
        "    cudaEventCreate(&stop);\n",
        "    cudaEventRecord(start);\n",
        "\n",
        "    // Launch kernel\n",
        "    reduce_sum_kernel<<<blocks, threadsPerBlock>>>(A_d, B_d, N);\n",
        "\n",
        "    cudaEventRecord(stop);\n",
        "    cudaEventSynchronize(stop);\n",
        "\n",
        "    // Copy result back\n",
        "    cudaMemcpy(B_h, B_d, sizeof(double), cudaMemcpyDeviceToHost);\n",
        "\n",
        "    // CPU sum\n",
        "    reduce_sum_cpu(A_h, B_h_CPU, N);\n",
        "\n",
        "    // Report results\n",
        "    printf(\"CPU Sum: %f\\n\", *B_h_CPU);\n",
        "    printf(\"GPU Sum: %f\\n\", *B_h);\n",
        "\n",
        "    float ms = 0;\n",
        "    cudaEventElapsedTime(&ms, start, stop);\n",
        "    printf(\"GPU Time: %.3f ms\\n\", ms);\n",
        "\n",
        "    // Cleanup\n",
        "    cudaFree(A_d);\n",
        "    cudaFree(B_d);\n",
        "    free(A_h);\n",
        "    free(B_h);\n",
        "    free(B_h_CPU);\n",
        "    cudaEventDestroy(start);\n",
        "    cudaEventDestroy(stop);\n",
        "\n",
        "    return 0;\n",
        "}\n",
        "\n",
        "'''\n",
        "\n",
        "# Step 2: Save to file\n",
        "with open('vec_add.cu', 'w') as f:\n",
        "    f.write(code)\n",
        "\n",
        "# Step 3: Compile using nvcc\n",
        "# Ref: https://stackoverflow.com/questions/73361454/i-am-getting-zeros-as-a-result-of-vector-additon-in-cuda-and-no-errors\n",
        "!nvcc -arch=sm_75 vec_add.cu -o vec_add\n",
        "\n",
        "# Step 4: Run the binary\n",
        "!./vec_add\n"
      ],
      "metadata": {
        "colab": {
          "base_uri": "https://localhost:8080/"
        },
        "id": "WosNuob-1Ae-",
        "outputId": "758d5d7e-6c96-4e9e-d1c5-7dfb3b8d1614"
      },
      "execution_count": 2,
      "outputs": [
        {
          "output_type": "stream",
          "name": "stdout",
          "text": [
            "CPU Sum: 4998851.832672\n",
            "GPU Sum: 4998851.832672\n",
            "GPU Time: 35.228 ms\n"
          ]
        }
      ]
    },
    {
      "cell_type": "code",
      "source": [
        "!nvprof ./vec_add --profile-from-start off"
      ],
      "metadata": {
        "id": "93MTzCF-ncNo",
        "outputId": "67897b6c-ed90-4e60-db3c-3c3cd63bea99",
        "colab": {
          "base_uri": "https://localhost:8080/"
        }
      },
      "execution_count": null,
      "outputs": [
        {
          "output_type": "stream",
          "name": "stdout",
          "text": [
            "==8311== NVPROF is profiling process 8311, command: ./vec_add --profile-from-start off\n",
            "GPU: Tesla T4\n",
            "Compute Capability: 7.5\n",
            "4.99942e+06CPU\n",
            "4.98867e-310GPU==8311== Profiling application: ./vec_add --profile-from-start off\n",
            "==8311== Profiling result:\n",
            "            Type  Time(%)      Time     Calls       Avg       Min       Max  Name\n",
            " GPU activities:  100.00%  35.091ms         1  35.091ms  35.091ms  35.091ms  reduceSumKernel(double*, double*, int)\n",
            "                    0.00%     992ns         1     992ns     992ns     992ns  [CUDA memcpy HtoD]\n",
            "      API calls:   92.79%  82.484ms         2  41.242ms     926ns  82.483ms  cudaEventCreate\n",
            "                    5.02%  4.4586ms         1  4.4586ms  4.4586ms  4.4586ms  cudaEventSynchronize\n",
            "                    1.45%  1.2924ms         2  646.19us  169.36us  1.1230ms  cudaFree\n",
            "                    0.27%  236.85us         2  118.42us  100.37us  136.48us  cudaMalloc\n",
            "                    0.15%  133.47us       114  1.1700us     103ns  54.271us  cuDeviceGetAttribute\n",
            "                    0.13%  112.55us         1  112.55us  112.55us  112.55us  cudaLaunchKernel\n",
            "                    0.11%  101.49us         1  101.49us  101.49us  101.49us  cudaGetDeviceProperties\n",
            "                    0.04%  32.015us         2  16.007us  10.080us  21.935us  cudaMemcpy\n",
            "                    0.01%  12.262us         1  12.262us  12.262us  12.262us  cuDeviceGetName\n",
            "                    0.01%  10.316us         2  5.1580us  4.1660us  6.1500us  cudaEventRecord\n",
            "                    0.01%  5.8200us         1  5.8200us  5.8200us  5.8200us  cuDeviceGetPCIBusId\n",
            "                    0.00%  3.1760us         2  1.5880us     498ns  2.6780us  cudaEventDestroy\n",
            "                    0.00%  2.6630us         1  2.6630us  2.6630us  2.6630us  cudaEventElapsedTime\n",
            "                    0.00%  2.0200us         3     673ns     137ns  1.6590us  cuDeviceGetCount\n",
            "                    0.00%     616ns         1     616ns     616ns     616ns  cuModuleGetLoadingMode\n",
            "                    0.00%     614ns         2     307ns     123ns     491ns  cuDeviceGet\n",
            "                    0.00%     356ns         1     356ns     356ns     356ns  cuDeviceTotalMem\n",
            "                    0.00%     267ns         1     267ns     267ns     267ns  cuDeviceGetUuid\n"
          ]
        }
      ]
    },
    {
      "cell_type": "code",
      "source": [],
      "metadata": {
        "id": "sYfRvW2png-n"
      },
      "execution_count": null,
      "outputs": []
    }
  ]
}