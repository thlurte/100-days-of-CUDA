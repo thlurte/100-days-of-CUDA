{
  "nbformat": 4,
  "nbformat_minor": 0,
  "metadata": {
    "colab": {
      "provenance": [],
      "gpuType": "T4"
    },
    "kernelspec": {
      "name": "python3",
      "display_name": "Python 3"
    },
    "language_info": {
      "name": "python"
    },
    "accelerator": "GPU"
  },
  "cells": [
    {
      "cell_type": "code",
      "execution_count": null,
      "metadata": {
        "colab": {
          "base_uri": "https://localhost:8080/"
        },
        "id": "GJlSQMlwh33Z",
        "outputId": "6bedea69-bc7e-414a-f627-7e5c563eaa02"
      },
      "outputs": [
        {
          "output_type": "stream",
          "name": "stdout",
          "text": [
            "Tue Apr 15 11:05:53 2025       \n",
            "+-----------------------------------------------------------------------------------------+\n",
            "| NVIDIA-SMI 550.54.15              Driver Version: 550.54.15      CUDA Version: 12.4     |\n",
            "|-----------------------------------------+------------------------+----------------------+\n",
            "| GPU  Name                 Persistence-M | Bus-Id          Disp.A | Volatile Uncorr. ECC |\n",
            "| Fan  Temp   Perf          Pwr:Usage/Cap |           Memory-Usage | GPU-Util  Compute M. |\n",
            "|                                         |                        |               MIG M. |\n",
            "|=========================================+========================+======================|\n",
            "|   0  Tesla T4                       Off |   00000000:00:04.0 Off |                    0 |\n",
            "| N/A   62C    P8             11W /   70W |       0MiB /  15360MiB |      0%      Default |\n",
            "|                                         |                        |                  N/A |\n",
            "+-----------------------------------------+------------------------+----------------------+\n",
            "                                                                                         \n",
            "+-----------------------------------------------------------------------------------------+\n",
            "| Processes:                                                                              |\n",
            "|  GPU   GI   CI        PID   Type   Process name                              GPU Memory |\n",
            "|        ID   ID                                                               Usage      |\n",
            "|=========================================================================================|\n",
            "|  No running processes found                                                             |\n",
            "+-----------------------------------------------------------------------------------------+\n"
          ]
        }
      ],
      "source": [
        "!nvidia-smi"
      ]
    },
    {
      "cell_type": "code",
      "source": [
        "# Step 1: Write CUDA code to a file\n",
        "code = r'''\n",
        "#include <iostream>\n",
        "#include <chrono>\n",
        "#include <cuda_runtime.h>\n",
        "#include <random>\n",
        "\n",
        "//------------------------------------------------------------------------------\n",
        "// Kernel for tanh\n",
        "//------------------------------------------------------------------------------\n",
        "__global__ void tanh_kernel(float* data, float* output, unsigned int pixels) {\n",
        "    unsigned int i = blockIdx.x * blockDim.x + threadIdx.x;\n",
        "\n",
        "\n",
        "    if (i<pixels) {\n",
        "\n",
        "    output[i] = (expf(data[i])-expf(-data[i]))/(expf(data[i])+expf(-data[i]));\n",
        "\n",
        "    }\n",
        "\n",
        "\n",
        "  }\n",
        "\n",
        "\n",
        "//------------------------------------------------------------------------------\n",
        "// GPU function for memory allocation, transfer, kernel execution and deletion\n",
        "//------------------------------------------------------------------------------\n",
        "void tanh_gpu(float* data_h, float* output_h, int batches, int images, int width, int height, int channels) {\n",
        "\n",
        "    float *data_d, *output_d;\n",
        "    unsigned int pixels = batches * images * width * height * channels;\n",
        "    unsigned int size_t = pixels * sizeof(float);\n",
        "\n",
        "    cudaMalloc((void **)&data_d, size_t);\n",
        "    cudaMalloc((void **)&output_d, size_t);\n",
        "\n",
        "    cudaMemcpy(data_d, data_h, size_t, cudaMemcpyHostToDevice);\n",
        "\n",
        "    dim3 threadsPerBlock(256);\n",
        "    dim3 numBlocks((pixels + threadsPerBlock.x - 1) / threadsPerBlock.x);\n",
        "\n",
        "    tanh_kernel<<<numBlocks, threadsPerBlock>>>(data_d, output_d, pixels);\n",
        "    cudaDeviceSynchronize();\n",
        "\n",
        "    cudaMemcpy(output_h, output_d, size_t, cudaMemcpyDeviceToHost);\n",
        "\n",
        "    cudaFree(data_d);\n",
        "    cudaFree(output_d);\n",
        "}\n",
        "\n",
        "\n",
        "int main() {\n",
        "\n",
        "  const int batches = 5;\n",
        "  const int images = 32;\n",
        "  const int height = 224;\n",
        "  const int width = 224;\n",
        "  const int channels = 3;\n",
        "\n",
        "  const int total_size = batches * images * width * height * channels;\n",
        "\n",
        "  float *data = new float[total_size];\n",
        "  float *output = new float[total_size];\n",
        "\n",
        "  // initialize random generator\n",
        "  std::random_device rd;\n",
        "  std::mt19937 gen(rd());\n",
        "  std::uniform_real_distribution<float>dist(-1.0f,1.0f);\n",
        "\n",
        "  // feed random data into the variable\n",
        "  for (int i=0; i<total_size; i++) {\n",
        "    data[i] = dist(gen);\n",
        "  }\n",
        "\n",
        "  tanh_gpu(data, output, batches, images, width, height, channels);\n",
        "\n",
        "  std::cout << \"Sample value after TanH: \" << output[123456] << std::endl;\n",
        "\n",
        "  delete[] data;\n",
        "  delete[] output;\n",
        "\n",
        "  return 0;\n",
        "}\n",
        "\n",
        "\n",
        "\n",
        "'''\n",
        "\n",
        "# Step 2: Save to file\n",
        "with open('script.cu', 'w') as f:\n",
        "    f.write(code)\n",
        "\n",
        "# Step 3: Compile using nvcc\n",
        "# Ref: https://stackoverflow.com/questions/73361454/i-am-getting-zeros-as-a-result-of-vector-additon-in-cuda-and-no-errors\n",
        "!nvcc -arch=sm_75 script.cu -o script\n",
        "\n",
        "# Step 4: Run the binary\n",
        "!./script\n"
      ],
      "metadata": {
        "colab": {
          "base_uri": "https://localhost:8080/"
        },
        "id": "WosNuob-1Ae-",
        "outputId": "da4ede63-7f63-42b6-ba32-a888c411da66"
      },
      "execution_count": 2,
      "outputs": [
        {
          "output_type": "stream",
          "name": "stdout",
          "text": [
            "Sample value after TanH: -0.453483\n"
          ]
        }
      ]
    },
    {
      "cell_type": "code",
      "source": [],
      "metadata": {
        "id": "5p_B60dePjfC"
      },
      "execution_count": null,
      "outputs": []
    }
  ]
}